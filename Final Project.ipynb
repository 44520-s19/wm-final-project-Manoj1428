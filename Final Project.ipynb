{
 "cells": [
  {
   "cell_type": "code",
   "execution_count": 9,
   "metadata": {},
   "outputs": [],
   "source": [
    "\n",
    "import tweepy"
   ]
  },
  {
   "cell_type": "code",
   "execution_count": 10,
   "metadata": {},
   "outputs": [],
   "source": [
    "\n",
    "import tweepy\n",
    "from twitter_keys import consumer_key, consumer_secret, access_token, access_secret\n",
    "import pickle\n",
    "\n",
    "auth = tweepy.OAuthHandler(consumer_key, consumer_secret)\n",
    "auth.set_access_token(access_token, access_secret)\n",
    "\n",
    "api = tweepy.API(auth)\n",
    "\n",
    "csk = api.user_timeline('ChennaiIPL')\n",
    "with open('ChennaiIPL.pkl', 'wb') as f:\n",
    "    pickle.dump(csk, f)\n",
    "    \n",
    "srh = api.user_timeline('SunRisers')\n",
    "with open('SunRisers.pkl', 'wb') as f:\n",
    "    pickle.dump(srh, f)\n",
    "    \n",
    "mi = api.user_timeline('mipaltan')\n",
    "with open('mipaltan.pkl', 'wb') as f:\n",
    "    pickle.dump(mi, f)\n",
    "    \n",
    "dc = api.user_timeline('DelhiCapitals')\n",
    "with open('DelhiCapitals.pkl', 'wb') as f:\n",
    "    pickle.dump(dc, f)\n",
    "\n",
    "rcb = api.user_timeline('RCBTweets')\n",
    "with open('RCBTweets.pkl', 'wb') as f:\n",
    "    pickle.dump(rcb, f)\n",
    "\n",
    "kkr = api.user_timeline('KKRiders')\n",
    "with open('KKRiders.pkl', 'wb') as f:\n",
    "    pickle.dump(kkr, f)\n",
    "    \n",
    "kp = api.user_timeline('lionsdenkxip')\n",
    "with open('lionsdenkxip.pkl', 'wb') as f:\n",
    "    pickle.dump(kp, f)\n",
    "    \n",
    "rr = api.user_timeline('rajasthanroyals')\n",
    "with open('rajasthanroyals.pkl', 'wb') as f:\n",
    "    pickle.dump(rr, f)\n",
    "\n"
   ]
  },
  {
   "cell_type": "code",
   "execution_count": 11,
   "metadata": {},
   "outputs": [],
   "source": [
    "import pickle\n",
    "\n",
    "with open('ChennaiIPL.pkl', 'rb') as f:\n",
    "    csk = pickle.load(f)\n",
    "    \n",
    "with open('SunRisers.pkl', 'rb') as f:\n",
    "    srh = pickle.load(f)\n",
    "    \n",
    "with open('mipaltan.pkl', 'rb') as f:\n",
    "    mi = pickle.load(f)\n",
    "    \n",
    "with open('DelhiCapitals.pkl', 'rb') as f:\n",
    "    dc = pickle.load(f)\n",
    "    \n",
    "with open('RCBTweets.pkl', 'rb') as f:\n",
    "    rcb = pickle.load(f)\n",
    "    \n",
    "with open('KKRiders.pkl', 'rb') as f:\n",
    "    kkr = pickle.load(f)\n",
    "    \n",
    "with open('lionsdenkxip.pkl', 'rb') as f:\n",
    "    kp = pickle.load(f)\n",
    "    \n",
    "with open('rajasthanroyals.pkl', 'rb') as f:\n",
    "    rr = pickle.load(f)\n",
    "\n",
    "\n",
    "\n"
   ]
  },
  {
   "cell_type": "code",
   "execution_count": 12,
   "metadata": {},
   "outputs": [
    {
     "name": "stdout",
     "output_type": "stream",
     "text": [
      "Retweet Count of Chennai super kings (csk): 163\n",
      "Retweet Count of Sunrisers Hyderabad (srh): 94\n",
      "Retweet Count of Mumbai Indians (mi): 59\n",
      "Retweet Count of Royal challengers bangalore (rcb): 64\n",
      "Retweet Count of Kolkata Knight Riders (kkr): 55\n",
      "Retweet Count of Kings Punjab (kp): 5\n",
      "Retweet Count of delhi capitals (dc): 1\n",
      "Retweet Count of  Rajasthan Royals (rr) : 1\n"
     ]
    }
   ],
   "source": [
    "csk_retweet = csk[2].retweet_count\n",
    "\n",
    "print('Retweet Count of Chennai super kings (csk):',csk_retweet)\n",
    "\n",
    "srh_retweet = srh[2].retweet_count\n",
    "\n",
    "print('Retweet Count of Sunrisers Hyderabad (srh):',srh_retweet)\n",
    "\n",
    "mi_retweet = mi[2].retweet_count\n",
    "\n",
    "print('Retweet Count of Mumbai Indians (mi):',mi_retweet)\n",
    "\n",
    "rcb_retweet = rcb[2].retweet_count\n",
    "\n",
    "print('Retweet Count of Royal challengers bangalore (rcb):',rcb_retweet)\n",
    "\n",
    "kkr_retweet = kkr[2].retweet_count\n",
    "\n",
    "print('Retweet Count of Kolkata Knight Riders (kkr):',kkr_retweet)\n",
    "\n",
    "kp_retweet = kp[2].retweet_count\n",
    "\n",
    "print('Retweet Count of Kings Punjab (kp):',kp_retweet)\n",
    "\n",
    "dc_retweet = dc[2].retweet_count\n",
    "\n",
    "print('Retweet Count of delhi capitals (dc):',dc_retweet)\n",
    "\n",
    "rr_retweet = rr[2].retweet_count\n",
    "\n",
    "print('Retweet Count of  Rajasthan Royals (rr) :',rr_retweet)"
   ]
  },
  {
   "cell_type": "code",
   "execution_count": 8,
   "metadata": {},
   "outputs": [
    {
     "data": {
      "image/png": "[encoded data removed]",
      "text/plain": [
       "<Figure size 432x288 with 1 Axes>"
      ]
     },
     "metadata": {
      "needs_background": "light"
     },
     "output_type": "display_data"
    }
   ],
   "source": [
    "import matplotlib.pyplot as plt\n",
    "import numpy as np\n",
    "objects = ('csk','srh','mi','rr','dc','rcb','kp','kkr')\n",
    "y_pos = np.arange(len(objects))\n",
    "performance = [csk_retweet,srh_retweet,mi_retweet,rr_retweet,dc_retweet,rcb_retweet,kp_retweet,kkr_retweet]\n",
    "\n",
    "plt.bar(y_pos, performance, align='center', alpha=0.5)\n",
    "plt.xticks(y_pos, objects)\n",
    "plt.ylabel('Number of retweets')\n",
    "plt.title('Retweet Count Comparison for IPL Teams')\n",
    "\n",
    "plt.show()"
   ]
  },
  {
   "cell_type": "code",
   "execution_count": 14,
   "metadata": {},
   "outputs": [],
   "source": [
    "all_csk_tweets = \"\"\n",
    "\n",
    "for i in range(len(csk)):\n",
    "    all_csk_tweets += csk[i].text\n",
    "    all_csk_tweets += \" \"\n",
    "    \n",
    "all_srh_tweets = \"\"\n",
    "\n",
    "for i in range(len(srh)):\n",
    "    all_srh_tweets += srh[i].text\n",
    "    all_srh_tweets += \" \"\n",
    "    \n",
    "all_mi_tweets = \"\"\n",
    "\n",
    "for i in range(len(mi)):\n",
    "    all_mi_tweets += mi[i].text\n",
    "    all_mi_tweets += \" \"\n",
    "    \n",
    "all_dc_tweets = \"\"\n",
    "\n",
    "for i in range(len(dc)):\n",
    "    all_dc_tweets += dc[i].text\n",
    "    all_dc_tweets += \" \"\n",
    "    \n",
    "all_rcb_tweets = \"\"\n",
    "\n",
    "for i in range(len(rcb)):\n",
    "    all_rcb_tweets += rcb[i].text\n",
    "    all_rcb_tweets += \" \"\n",
    "    \n",
    "all_kkr_tweets = \"\"\n",
    "\n",
    "for i in range(len(kkr)):\n",
    "    all_kkr_tweets += kkr[i].text\n",
    "    all_kkr_tweets += \" \"\n",
    "    \n",
    "all_kp_tweets = \"\"\n",
    "\n",
    "for i in range(len(kp)):\n",
    "    all_kp_tweets += kp[i].text\n",
    "    all_kp_tweets += \" \"\n",
    "    \n",
    "all_rr_tweets = \"\"\n",
    "\n",
    "for i in range(len(rr)):\n",
    "    all_rr_tweets += rr[i].text\n",
    "    all_rr_tweets += \" \""
   ]
  },
  {
   "cell_type": "code",
   "execution_count": 26,
   "metadata": {},
   "outputs": [
    {
     "name": "stderr",
     "output_type": "stream",
     "text": [
      "[nltk_data] Downloading package vader_lexicon to\n",
      "[nltk_data]     C:\\Users\\S534885\\AppData\\Roaming\\nltk_data...\n",
      "[nltk_data]   Package vader_lexicon is already up-to-date!\n"
     ]
    }
   ],
   "source": [
    "import nltk\n",
    "nltk.download('vader_lexicon')\n",
    "\n",
    "\n",
    "from nltk.sentiment.vader import SentimentIntensityAnalyzer\n",
    "analyzer = SentimentIntensityAnalyzer()\n",
    "\n",
    "polarity_score_csk = analyzer.polarity_scores(all_csk_tweets)\n",
    "polarity_score_srh = analyzer.polarity_scores(all_srh_tweets)\n",
    "polarity_score_mi = analyzer.polarity_scores(all_mi_tweets)\n",
    "polarity_score_dc = analyzer.polarity_scores(all_dc_tweets)\n",
    "polarity_score_rcb = analyzer.polarity_scores(all_rcb_tweets)\n",
    "polarity_score_kkr = analyzer.polarity_scores(all_kkr_tweets)\n",
    "polarity_score_kp = analyzer.polarity_scores(all_kp_tweets)\n",
    "polarity_score_rr = analyzer.polarity_scores(all_rr_tweets)\n",
    "\n",
    "\n",
    "# print(\"Sentiment Analysis for Chennai Super Kings's tweets:\", polarity_score_csk)\n",
    "# print(\"Sentiment Analysis for Sun Risers Hyderabad's tweets:\", polarity_score_srh)\n",
    "# print(\"Sentiment Analysis for Mumbai Indians's tweets:\", polarity_score_mi)\n",
    "# print(\"Sentiment Analysis for Delhi Capitals's tweets:\", polarity_score_dc)\n",
    "# print(\"Sentiment Analysis for Royal Challengers Bangalore's tweets:\", polarity_score_rcb)\n",
    "# print(\"Sentiment Analysis for Kolkatta Knight Riders's tweets:\", polarity_score_kkr)\n",
    "# print(\"Sentiment Analysis for Kings Punjab's tweets:\", polarity_score_kp)\n",
    "# print(\"Sentiment Analysis for Rajasthan Royals's tweets:\", polarity_score_rr)\n"
   ]
  },
  {
   "cell_type": "code",
   "execution_count": 25,
   "metadata": {},
   "outputs": [
    {
     "data": {
      "image/png": "[encoded data removed]",
      "text/plain": [
       "<Figure size 832x572 with 1 Axes>"
      ]
     },
     "metadata": {},
     "output_type": "display_data"
    }
   ],
   "source": [
    "IPL_teams = (\"CSK\", \"SRH\", \"MI\", \"DC\", \"RCB\", \"KKR\", \"KP\", \"RR\")\n",
    "y_pos = np.arange(len(IPL_teams))\n",
    "\n",
    "polarity_score_csk_list = list(polarity_score_csk.values())\n",
    "polarity_score_srh_list = list(polarity_score_srh.values())\n",
    "polarity_score_mi_list = list(polarity_score_mi.values())\n",
    "polarity_score_dc_list = list(polarity_score_dc.values())\n",
    "polarity_score_rcb_list = list(polarity_score_rcb.values())\n",
    "polarity_score_kkr_list = list(polarity_score_kkr.values())\n",
    "polarity_score_kp_list = list(polarity_score_kp.values())\n",
    "polarity_score_rr_list = list(polarity_score_rr.values())\n",
    "\n",
    "sentiment_analysis_positive_value = [polarity_score_csk_list[0], polarity_score_srh_list[0], polarity_score_mi_list[0], polarity_score_dc_list[0], polarity_score_rcb_list[0], polarity_score_kkr_list[0], polarity_score_kp_list[0], polarity_score_rr_list[0]]\n",
    "\n",
    "plt.bar(y_pos, sentiment_analysis_positive_value, align='center', alpha=0.75, color=['yellow', 'orange', 'blue', 'navy', 'red', 'green', 'pink', 'aqua'], edgecolor='black')\n",
    "plt.xticks(y_pos, IPL_teams)\n",
    "plt.ylabel('Sentiment_Analysis_Value (Negative)')\n",
    "plt.title('Sentiment Analysis (Negative)')\n",
    "\n",
    "import matplotlib.style as style\n",
    "style.use('seaborn-poster')\n",
    "style.use('classic')\n",
    "style.use('seaborn-talk')\n",
    "\n",
    "\n",
    "plt.show()"
   ]
  },
  {
   "cell_type": "code",
   "execution_count": null,
   "metadata": {},
   "outputs": [],
   "source": []
  }
 ],
 "metadata": {
  "kernelspec": {
   "display_name": "Python 3",
   "language": "python",
   "name": "python3"
  },
  "language_info": {
   "codemirror_mode": {
    "name": "ipython",
    "version": 3
   },
   "file_extension": ".py",
   "mimetype": "text/x-python",
   "name": "python",
   "nbconvert_exporter": "python",
   "pygments_lexer": "ipython3",
   "version": "3.7.3"
  }
 },
 "nbformat": 4,
 "nbformat_minor": 2
}
