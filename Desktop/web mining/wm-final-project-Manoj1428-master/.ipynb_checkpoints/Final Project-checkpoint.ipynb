{
 "cells": [
  {
   "cell_type": "code",
   "execution_count": 1,
   "metadata": {},
   "outputs": [],
   "source": [
    "\n",
    "import tweepy"
   ]
  },
  {
   "cell_type": "code",
   "execution_count": 6,
   "metadata": {},
   "outputs": [],
   "source": [
    "\n",
    "# let's hit up twitter!\n",
    "import tweepy\n",
    "from twitter_keys import consumer_key, consumer_secret, access_token, access_secret\n",
    "import pickle\n",
    "\n",
    "auth = tweepy.OAuthHandler(consumer_key, consumer_secret)\n",
    "auth.set_access_token(access_token, access_secret)\n",
    "\n",
    "api = tweepy.API(auth)\n",
    "\n",
    "csk = api.user_timeline('ChennaiIPL')\n",
    "with open('ChennaiIPL.pkl', 'wb') as f:\n",
    "    pickle.dump(csk, f)\n",
    "    \n",
    "srh = api.user_timeline('SunRisers')\n",
    "with open('SunRisers.pkl', 'wb') as f:\n",
    "    pickle.dump(srh, f)\n",
    "    \n",
    "mi = api.user_timeline('mipaltan')\n",
    "with open('mipaltan.pkl', 'wb') as f:\n",
    "    pickle.dump(mi, f)\n",
    "    \n",
    "dc = api.user_timeline('DelhiCapitals')\n",
    "with open('DelhiCapitals.pkl', 'wb') as f:\n",
    "    pickle.dump(dc, f)\n",
    "\n",
    "rcb = api.user_timeline('RCBTweets')\n",
    "with open('RCBTweets.pkl', 'wb') as f:\n",
    "    pickle.dump(rcb, f)\n",
    "\n",
    "kkr = api.user_timeline('KKRiders')\n",
    "with open('KKRiders.pkl', 'wb') as f:\n",
    "    pickle.dump(kkr, f)\n",
    "    \n",
    "kp = api.user_timeline('lionsdenkxip')\n",
    "with open('lionsdenkxip.pkl', 'wb') as f:\n",
    "    pickle.dump(kp, f)\n",
    "    \n",
    "rr = api.user_timeline('rajasthanroyals')\n",
    "with open('rajasthanroyals.pkl', 'wb') as f:\n",
    "    pickle.dump(rr, f)\n",
    "\n"
   ]
  },
  {
   "cell_type": "code",
   "execution_count": 11,
   "metadata": {},
   "outputs": [],
   "source": [
    "import pickle\n",
    "\n",
    "with open('ChennaiIPL.pkl', 'rb') as f:\n",
    "    csk = pickle.load(f)\n",
    "with open('SunRisers.pkl', 'rb') as f:\n",
    "    srh = pickle.load(f)\n",
    "\n",
    "\n",
    "\n",
    "with open('mipaltan.pkl', 'rb') as f:\n",
    "    mi = pickle.load(f)\n",
    "\n",
    "\n",
    "\n",
    "with open('DelhiCapitals.pkl', 'rb') as f:\n",
    "    dc = pickle.load(f)\n",
    "\n",
    "\n",
    "\n",
    "with open('RCBTweets.pkl', 'rb') as f:\n",
    "    rcb = pickle.load(f)\n",
    "\n",
    "\n",
    "with open('KKRiders.pkl', 'rb') as f:\n",
    "    kkr = pickle.load(f)\n",
    "\n",
    "\n",
    "with open('lionsdenkxip.pkl', 'rb') as f:\n",
    "    kp = pickle.load(f)\n",
    "\n",
    "\n",
    "with open('rajasthanroyals.pkl', 'rb') as f:\n",
    "    rr = pickle.load(f)\n",
    "\n",
    "\n",
    "\n"
   ]
  },
  {
   "cell_type": "code",
   "execution_count": 12,
   "metadata": {},
   "outputs": [
    {
     "name": "stdout",
     "output_type": "stream",
     "text": [
      "Retweet Count of Chennai super kings (csk): 162\n",
      "Retweet Count of Sunrisers Hyderabad (srh): 71\n",
      "Retweet Count of Mumbai Indians (mi): 59\n",
      "Retweet Count of Royal challengers bangalore (rcb): 63\n",
      "Retweet Count of Kolkata Knight Riders (kkr): 55\n",
      "Retweet Count of Kings Punjab (kp): 5\n",
      "Retweet Count of delhi capitals (dc): 1\n",
      "Retweet Count of  Rajasthan Royals (rr) : 1\n"
     ]
    }
   ],
   "source": [
    "csk_retweet = csk[2].retweet_count\n",
    "\n",
    "print('Retweet Count of Chennai super kings (csk):',csk_retweet)\n",
    "\n",
    "srh_retweet = srh[2].retweet_count\n",
    "\n",
    "print('Retweet Count of Sunrisers Hyderabad (srh):',srh_retweet)\n",
    "\n",
    "mi_retweet = mi[2].retweet_count\n",
    "\n",
    "print('Retweet Count of Mumbai Indians (mi):',mi_retweet)\n",
    "\n",
    "rcb_retweet = rcb[2].retweet_count\n",
    "\n",
    "print('Retweet Count of Royal challengers bangalore (rcb):',rcb_retweet)\n",
    "\n",
    "kkr_retweet = kkr[2].retweet_count\n",
    "\n",
    "print('Retweet Count of Kolkata Knight Riders (kkr):',kkr_retweet)\n",
    "\n",
    "kp_retweet = kp[2].retweet_count\n",
    "\n",
    "print('Retweet Count of Kings Punjab (kp):',kp_retweet)\n",
    "\n",
    "dc_retweet = dc[2].retweet_count\n",
    "\n",
    "print('Retweet Count of delhi capitals (dc):',dc_retweet)\n",
    "\n",
    "rr_retweet = rr[2].retweet_count\n",
    "\n",
    "print('Retweet Count of  Rajasthan Royals (rr) :',rr_retweet)"
   ]
  },
  {
   "cell_type": "code",
   "execution_count": 10,
   "metadata": {},
   "outputs": [
    {
     "data": {
      "image/png": "[encoded data removed]",
      "text/plain": [
       "<Figure size 432x288 with 1 Axes>"
      ]
     },
     "metadata": {
      "needs_background": "light"
     },
     "output_type": "display_data"
    }
   ],
   "source": [
    "import matplotlib.pyplot as plt\n",
    "import numpy as np\n",
    "objects = ('csk','srh','mi','rr','dc','rcb','kp','kkr')\n",
    "y_pos = np.arange(len(objects))\n",
    "performance = [csk_retweet,srh_retweet,mi_retweet,rr_retweet,dc_retweet,rcb_retweet,kp_retweet,kkr_retweet]\n",
    "\n",
    "plt.bar(y_pos, performance, align='center', alpha=0.5)\n",
    "plt.xticks(y_pos, objects)\n",
    "plt.ylabel('Number of retweets')\n",
    "plt.title('Retweet Count Comparision for IPL Teams')\n",
    "\n",
    "plt.show()"
   ]
  },
  {
   "cell_type": "code",
   "execution_count": null,
   "metadata": {},
   "outputs": [],
   "source": []
  }
 ],
 "metadata": {
  "kernelspec": {
   "display_name": "Python 3",
   "language": "python",
   "name": "python3"
  },
  "language_info": {
   "codemirror_mode": {
    "name": "ipython",
    "version": 3
   },
   "file_extension": ".py",
   "mimetype": "text/x-python",
   "name": "python",
   "nbconvert_exporter": "python",
   "pygments_lexer": "ipython3",
   "version": "3.7.3"
  }
 },
 "nbformat": 4,
 "nbformat_minor": 2
}
